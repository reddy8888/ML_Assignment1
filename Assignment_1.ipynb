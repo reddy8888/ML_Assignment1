{
  "nbformat": 4,
  "nbformat_minor": 0,
  "metadata": {
    "colab": {
      "provenance": []
    },
    "kernelspec": {
      "name": "python3",
      "display_name": "Python 3"
    },
    "language_info": {
      "name": "python"
    }
  },
  "cells": [
    {
      "cell_type": "code",
      "execution_count": 1,
      "metadata": {
        "colab": {
          "base_uri": "https://localhost:8080/"
        },
        "id": "gmAHERmDaEKd",
        "outputId": "69ebf6aa-33eb-46f0-f948-864b19bbff02"
      },
      "outputs": [
        {
          "output_type": "stream",
          "name": "stdout",
          "text": [
            "Sorted list: [19, 19, 19, 20, 22, 24, 24, 24, 25, 25, 26, 26]\n",
            "Min age: 19\n",
            "Max age: 26\n",
            "Median age: 24.0\n",
            "Average age: 22.75\n",
            "Range of ages: 7\n"
          ]
        }
      ],
      "source": [
        "# Given list of ages\n",
        "ages = [19, 22, 19, 24, 20, 25, 26, 24, 25, 24]\n",
        "\n",
        "# Sort the list and find the min and max age\n",
        "ages.sort()\n",
        "min_age = ages[0]\n",
        "max_age = ages[-1]\n",
        "\n",
        "# Add the min age and the max age again to the list\n",
        "ages.append(min_age)\n",
        "ages.append(max_age)\n",
        "ages.sort()  # Sort again after adding\n",
        "\n",
        "# Find the median age\n",
        "n = len(ages)\n",
        "if n % 2 == 0:\n",
        "    median = (ages[n//2 - 1] + ages[n//2]) / 2\n",
        "else:\n",
        "    median = ages[n//2]\n",
        "\n",
        "# Find the average age\n",
        "average_age = sum(ages) / len(ages)\n",
        "\n",
        "# Find the range of the ages\n",
        "age_range = max_age - min_age\n",
        "\n",
        "# Output the results\n",
        "print(f\"Sorted list: {ages}\")\n",
        "print(f\"Min age: {min_age}\")\n",
        "print(f\"Max age: {max_age}\")\n",
        "print(f\"Median age: {median}\")\n",
        "print(f\"Average age: {average_age}\")\n",
        "print(f\"Range of ages: {age_range}\")\n"
      ]
    },
    {
      "cell_type": "code",
      "source": [
        "# Create an empty dictionary called dog\n",
        "dog = {}\n",
        "\n",
        "# Add name, color, breed, legs, age to the dog dictionary\n",
        "dog['name'] = 'Buddy'\n",
        "dog['color'] = 'Brown'\n",
        "dog['breed'] = 'Golden Retriever'\n",
        "dog['legs'] = 4\n",
        "dog['age'] = 3\n",
        "\n",
        "# Create a student dictionary and add various keys\n",
        "student = {\n",
        "    'first_name': 'John',\n",
        "    'last_name': 'Doe',\n",
        "    'gender': 'Male',\n",
        "    'age': 20,\n",
        "    'marital_status': 'Single',\n",
        "    'skills': ['Python', 'Data Analysis'],\n",
        "    'country': 'USA',\n",
        "    'city': 'New York',\n",
        "    'address': '1234 Elm Street'\n",
        "}\n",
        "\n",
        "# Get the length of the student dictionary\n",
        "student_length = len(student)\n",
        "\n",
        "# Get the value of skills and check the data type\n",
        "skills = student['skills']\n",
        "skills_type = type(skills)\n",
        "\n",
        "# Modify the skills values by adding one or two skills\n",
        "student['skills'].extend(['Machine Learning', 'Communication'])\n",
        "\n",
        "# Get the dictionary keys as a list\n",
        "student_keys = list(student.keys())\n",
        "\n",
        "# Get the dictionary values as a list\n",
        "student_values = list(student.values())\n",
        "\n",
        "# Output the results\n",
        "print(f\"Dog dictionary: {dog}\")\n",
        "print(f\"Student dictionary: {student}\")\n",
        "print(f\"Length of student dictionary: {student_length}\")\n",
        "print(f\"Skills: {skills}\")\n",
        "print(f\"Type of skills: {skills_type}\")\n",
        "print(f\"Student dictionary keys: {student_keys}\")\n",
        "print(f\"Student dictionary values: {student_values}\")\n"
      ],
      "metadata": {
        "colab": {
          "base_uri": "https://localhost:8080/"
        },
        "id": "w8HgcrArasMy",
        "outputId": "ecd2c1c0-1153-47c8-ce68-9fafc694f773"
      },
      "execution_count": 2,
      "outputs": [
        {
          "output_type": "stream",
          "name": "stdout",
          "text": [
            "Dog dictionary: {'name': 'Buddy', 'color': 'Brown', 'breed': 'Golden Retriever', 'legs': 4, 'age': 3}\n",
            "Student dictionary: {'first_name': 'John', 'last_name': 'Doe', 'gender': 'Male', 'age': 20, 'marital_status': 'Single', 'skills': ['Python', 'Data Analysis', 'Machine Learning', 'Communication'], 'country': 'USA', 'city': 'New York', 'address': '1234 Elm Street'}\n",
            "Length of student dictionary: 9\n",
            "Skills: ['Python', 'Data Analysis', 'Machine Learning', 'Communication']\n",
            "Type of skills: <class 'list'>\n",
            "Student dictionary keys: ['first_name', 'last_name', 'gender', 'age', 'marital_status', 'skills', 'country', 'city', 'address']\n",
            "Student dictionary values: ['John', 'Doe', 'Male', 20, 'Single', ['Python', 'Data Analysis', 'Machine Learning', 'Communication'], 'USA', 'New York', '1234 Elm Street']\n"
          ]
        }
      ]
    },
    {
      "cell_type": "code",
      "source": [
        "# Create a tuple containing names of your sisters and brothers (imaginary siblings are fine)\n",
        "sisters = ('Anna', 'Maria')\n",
        "brothers = ('John', 'Alex')\n",
        "\n",
        "# Join brothers and sisters tuples and assign it to siblings\n",
        "siblings = sisters + brothers\n",
        "\n",
        "# How many siblings do you have?\n",
        "num_siblings = len(siblings)\n",
        "\n",
        "# Modify the siblings tuple by converting it to a list (since tuples are immutable),\n",
        "# making the modification, and then converting it back to a tuple\n",
        "siblings_list = list(siblings)\n",
        "siblings_list.append('NewSibling')  # Adding a new sibling as an example\n",
        "siblings = tuple(siblings_list)\n",
        "\n",
        "# Output the results\n",
        "print(f\"Sisters: {sisters}\")\n",
        "print(f\"Brothers: {brothers}\")\n",
        "print(f\"Siblings: {siblings}\")\n",
        "print(f\"Number of siblings: {num_siblings}\")\n"
      ],
      "metadata": {
        "colab": {
          "base_uri": "https://localhost:8080/"
        },
        "id": "TiZ8Png7avEz",
        "outputId": "cbb9d9f7-b33e-4dca-aae5-462089432f27"
      },
      "execution_count": 3,
      "outputs": [
        {
          "output_type": "stream",
          "name": "stdout",
          "text": [
            "Sisters: ('Anna', 'Maria')\n",
            "Brothers: ('John', 'Alex')\n",
            "Siblings: ('Anna', 'Maria', 'John', 'Alex', 'NewSibling')\n",
            "Number of siblings: 4\n"
          ]
        }
      ]
    },
    {
      "cell_type": "code",
      "source": [
        "# Given sets and list\n",
        "it_companies = {'Facebook', 'Google', 'Microsoft', 'Apple', 'IBM', 'Oracle', 'Amazon'}\n",
        "A = {19, 22, 24, 20, 25, 26}\n",
        "B = {19, 22, 20, 25, 26, 24, 28, 27}\n",
        "age = [22, 19, 24, 25, 26, 24, 25, 24]\n",
        "\n",
        "# Find the length of the set it_companies\n",
        "length_it_companies = len(it_companies)\n",
        "print(f\"Length of it_companies: {length_it_companies}\")\n",
        "\n",
        "# Add 'Twitter' to it_companies\n",
        "it_companies.add('Twitter')\n",
        "print(f\"it_companies after adding 'Twitter': {it_companies}\")\n",
        "\n",
        "# Insert multiple IT companies at once to the set it_companies\n",
        "it_companies.update(['Spotify', 'Netflix', 'Adobe'])\n",
        "print(f\"it_companies after adding multiple companies: {it_companies}\")\n",
        "\n",
        "# Remove one of the companies from the set it_companies\n",
        "it_companies.remove('IBM')  # Remove 'IBM' as an example\n",
        "print(f\"it_companies after removing 'IBM': {it_companies}\")\n",
        "\n",
        "# Difference between remove and discard\n",
        "# remove() will raise a KeyError if the element does not exist\n",
        "# discard() will not raise an error if the element does not exist\n",
        "\n",
        "# Join A and B\n",
        "A_union_B = A.union(B)\n",
        "print(f\"Union of A and B: {A_union_B}\")\n",
        "\n",
        "# Find A intersection B\n",
        "A_intersection_B = A.intersection(B)\n",
        "print(f\"Intersection of A and B: {A_intersection_B}\")\n",
        "\n",
        "# Is A subset of B\n",
        "is_A_subset_of_B = A.issubset(B)\n",
        "print(f\"Is A a subset of B: {is_A_subset_of_B}\")\n",
        "\n",
        "# Are A and B disjoint sets\n",
        "are_A_and_B_disjoint = A.isdisjoint(B)\n",
        "print(f\"Are A and B disjoint sets: {are_A_and_B_disjoint}\")\n",
        "\n",
        "# Join A with B and B with A (Union of A and B is commutative)\n",
        "A_union_B = A.union(B)\n",
        "B_union_A = B.union(A)\n",
        "print(f\"A union B: {A_union_B}\")\n",
        "print(f\"B union A: {B_union_A}\")\n",
        "\n",
        "# What is the symmetric difference between A and B\n",
        "A_symmetric_difference_B = A.symmetric_difference(B)\n",
        "print(f\"Symmetric difference between A and B: {A_symmetric_difference_B}\")\n",
        "\n",
        "# Delete the sets completely\n",
        "del A\n",
        "del B\n",
        "\n",
        "# Convert the ages list to a set and compare the length of the list and the set\n",
        "age_set = set(age)\n",
        "length_age_list = len(age)\n",
        "length_age_set = len(age_set)\n",
        "print(f\"Length of age list: {length_age_list}\")\n",
        "print(f\"Length of age set: {length_age_set}\")\n"
      ],
      "metadata": {
        "colab": {
          "base_uri": "https://localhost:8080/"
        },
        "id": "KJQSj0RQbQ0j",
        "outputId": "26b555cd-c272-4387-ced1-5fc41d52ce06"
      },
      "execution_count": 4,
      "outputs": [
        {
          "output_type": "stream",
          "name": "stdout",
          "text": [
            "Length of it_companies: 7\n",
            "it_companies after adding 'Twitter': {'Facebook', 'Microsoft', 'IBM', 'Google', 'Twitter', 'Amazon', 'Apple', 'Oracle'}\n",
            "it_companies after adding multiple companies: {'Microsoft', 'Adobe', 'Google', 'Twitter', 'Facebook', 'IBM', 'Oracle', 'Amazon', 'Spotify', 'Apple', 'Netflix'}\n",
            "it_companies after removing 'IBM': {'Microsoft', 'Adobe', 'Google', 'Twitter', 'Facebook', 'Oracle', 'Amazon', 'Spotify', 'Apple', 'Netflix'}\n",
            "Union of A and B: {19, 20, 22, 24, 25, 26, 27, 28}\n",
            "Intersection of A and B: {19, 20, 22, 24, 25, 26}\n",
            "Is A a subset of B: True\n",
            "Are A and B disjoint sets: False\n",
            "A union B: {19, 20, 22, 24, 25, 26, 27, 28}\n",
            "B union A: {19, 20, 22, 24, 25, 26, 27, 28}\n",
            "Symmetric difference between A and B: {27, 28}\n",
            "Length of age list: 8\n",
            "Length of age set: 5\n"
          ]
        }
      ]
    },
    {
      "cell_type": "code",
      "source": [
        "import math\n",
        "\n",
        "# Given radius\n",
        "radius = 30\n",
        "\n",
        "# Calculate the area of the circle\n",
        "_area_of_circle_ = math.pi * (radius ** 2)\n",
        "print(f\"Area of the circle with radius {radius} meters: {_area_of_circle_:.2f} square meters\")\n",
        "\n",
        "# Calculate the circumference of the circle\n",
        "_circum_of_circle_ = 2 * math.pi * radius\n",
        "print(f\"Circumference of the circle with radius {radius} meters: {_circum_of_circle_:.2f} meters\")\n",
        "\n",
        "# Take radius as user input and calculate the area\n",
        "user_radius = float(input(\"Enter the radius of the circle in meters: \"))\n",
        "user_area_of_circle = math.pi * (user_radius ** 2)\n",
        "print(f\"Area of the circle with radius {user_radius} meters: {user_area_of_circle:.2f} square meters\")\n"
      ],
      "metadata": {
        "colab": {
          "base_uri": "https://localhost:8080/"
        },
        "id": "zyuk92_9bl_I",
        "outputId": "155c8baf-f0be-42d0-9a05-b9f4173737a0"
      },
      "execution_count": 6,
      "outputs": [
        {
          "output_type": "stream",
          "name": "stdout",
          "text": [
            "Area of the circle with radius 30 meters: 2827.43 square meters\n",
            "Circumference of the circle with radius 30 meters: 188.50 meters\n",
            "Enter the radius of the circle in meters: 10\n",
            "Area of the circle with radius 10.0 meters: 314.16 square meters\n"
          ]
        }
      ]
    },
    {
      "cell_type": "code",
      "source": [
        "# Given sentence\n",
        "sentence = \"I am a teacher and I love to inspire and teach people\"\n",
        "\n",
        "# Split the sentence into words\n",
        "words = sentence.split()\n",
        "\n",
        "# Convert the list of words to a set to get unique words\n",
        "unique_words = set(words)\n",
        "\n",
        "# Find the number of unique words\n",
        "num_unique_words = len(unique_words)\n",
        "\n",
        "# Output the result\n",
        "print(f\"Number of unique words: {num_unique_words}\")\n",
        "print(f\"Unique words: {unique_words}\")\n"
      ],
      "metadata": {
        "colab": {
          "base_uri": "https://localhost:8080/"
        },
        "id": "ywUCy91TcNG6",
        "outputId": "344865dc-4493-4a44-cb43-f930518a32eb"
      },
      "execution_count": 7,
      "outputs": [
        {
          "output_type": "stream",
          "name": "stdout",
          "text": [
            "Number of unique words: 10\n",
            "Unique words: {'to', 'am', 'people', 'inspire', 'teach', 'I', 'teacher', 'love', 'and', 'a'}\n"
          ]
        }
      ]
    },
    {
      "cell_type": "code",
      "source": [
        "# Use tab escape sequences to format the lines\n",
        "print(\"Name\\t\\tAge\\tCountry\\tCity\")\n",
        "print(\"Asabeneh\\t250\\tFinland\\tHelsinki\")\n"
      ],
      "metadata": {
        "colab": {
          "base_uri": "https://localhost:8080/"
        },
        "id": "xsdU6_5pcbl9",
        "outputId": "c08783c8-a1a5-4f14-e03f-150967e587a0"
      },
      "execution_count": 8,
      "outputs": [
        {
          "output_type": "stream",
          "name": "stdout",
          "text": [
            "Name\t\tAge\tCountry\tCity\n",
            "Asabeneh\t250\tFinland\tHelsinki\n"
          ]
        }
      ]
    },
    {
      "cell_type": "code",
      "source": [
        "# Given values\n",
        "radius = 10\n",
        "area = 3.14 * radius ** 2\n",
        "\n",
        "# Use string formatting to create the message\n",
        "message = f\"The area of a circle with radius {radius} is {area:.2f} meters square.\"\n",
        "\n",
        "# Output the message\n",
        "print(message)\n"
      ],
      "metadata": {
        "colab": {
          "base_uri": "https://localhost:8080/"
        },
        "id": "HfSssHNrcl3k",
        "outputId": "52c28f92-208f-4c74-c2e7-9cdcd8b4c0be"
      },
      "execution_count": 9,
      "outputs": [
        {
          "output_type": "stream",
          "name": "stdout",
          "text": [
            "The area of a circle with radius 10 is 314.00 meters square.\n"
          ]
        }
      ]
    },
    {
      "cell_type": "code",
      "source": [
        "# Read the number of students (N) from the user\n",
        "N = int(input(\"Enter the number of students: \"))\n",
        "\n",
        "# Initialize an empty list to store weights in pounds\n",
        "weights_lbs = []\n",
        "\n",
        "# Read weights of N students into the list\n",
        "for i in range(N):\n",
        "    weight = float(input(f\"Enter weight of student {i+1} in pounds: \"))\n",
        "    weights_lbs.append(weight)\n",
        "\n",
        "# Convert weights from pounds to kilograms and store them in a separate list\n",
        "weights_kgs = []\n",
        "for weight_lbs in weights_lbs:\n",
        "    weight_kg = weight_lbs * 0.453592  # Conversion factor: 1 pound = 0.453592 kilograms\n",
        "    weights_kgs.append(round(weight_kg, 2))  # Round to two decimal places\n",
        "\n",
        "# Output the weights in kilograms\n",
        "print(\"Weights in kilograms:\")\n",
        "print(weights_kgs)\n"
      ],
      "metadata": {
        "colab": {
          "base_uri": "https://localhost:8080/"
        },
        "id": "d2yoZhuhcxVV",
        "outputId": "6e1afe8c-a3dc-432d-8138-14c1242a0b61"
      },
      "execution_count": 10,
      "outputs": [
        {
          "output_type": "stream",
          "name": "stdout",
          "text": [
            "Enter the number of students: 5\n",
            "Enter weight of student 1 in pounds: 123\n",
            "Enter weight of student 2 in pounds: 200\n",
            "Enter weight of student 3 in pounds: 216\n",
            "Enter weight of student 4 in pounds: 155\n",
            "Enter weight of student 5 in pounds: 178\n",
            "Weights in kilograms:\n",
            "[55.79, 90.72, 97.98, 70.31, 80.74]\n"
          ]
        }
      ]
    }
  ]
}