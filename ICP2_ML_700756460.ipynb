{
  "nbformat": 4,
  "nbformat_minor": 0,
  "metadata": {
    "colab": {
      "provenance": [],
      "authorship_tag": "ABX9TyNsdP+ObPdcHFWOCVi/1+Ml",
      "include_colab_link": true
    },
    "kernelspec": {
      "name": "python3",
      "display_name": "Python 3"
    },
    "language_info": {
      "name": "python"
    }
  },
  "cells": [
    {
      "cell_type": "markdown",
      "metadata": {
        "id": "view-in-github",
        "colab_type": "text"
      },
      "source": [
        "<a href=\"https://colab.research.google.com/github/reddy8888/ML_Assignment1/blob/main/ICP2_ML_700756460.ipynb\" target=\"_parent\"><img src=\"https://colab.research.google.com/assets/colab-badge.svg\" alt=\"Open In Colab\"/></a>"
      ]
    },
    {
      "cell_type": "code",
      "source": [
        "n = 5\n",
        "for i in range(n):\n",
        "   for j in range(i+1):\n",
        "      print('* ', end=' ')\n",
        "   print()\n",
        "n = 4\n",
        "for i in range(n):\n",
        "   for j in range(i, n):\n",
        "      print('* ', end=' ')\n",
        "   print()"
      ],
      "metadata": {
        "colab": {
          "base_uri": "https://localhost:8080/"
        },
        "id": "hSvIgUzbMxV8",
        "outputId": "ac1056fd-733c-4cac-c09b-7f640682f594"
      },
      "execution_count": 1,
      "outputs": [
        {
          "output_type": "stream",
          "name": "stdout",
          "text": [
            "*  \n",
            "*  *  \n",
            "*  *  *  \n",
            "*  *  *  *  \n",
            "*  *  *  *  *  \n",
            "*  *  *  *  \n",
            "*  *  *  \n",
            "*  *  \n",
            "*  \n"
          ]
        }
      ]
    },
    {
      "cell_type": "code",
      "source": [
        "myList = [10, 20, 30, 40, 50, 60, 70, 80, 90, 100]\n",
        "for i in range(1, len(myList), 2):\n",
        "    print(myList[i])"
      ],
      "metadata": {
        "colab": {
          "base_uri": "https://localhost:8080/"
        },
        "id": "WGr9Et8PM4EY",
        "outputId": "858f814a-b00a-484c-fcfc-55766bce79ee"
      },
      "execution_count": 2,
      "outputs": [
        {
          "output_type": "stream",
          "name": "stdout",
          "text": [
            "20\n",
            "40\n",
            "60\n",
            "80\n",
            "100\n"
          ]
        }
      ]
    },
    {
      "cell_type": "code",
      "source": [
        "x = [23, 'Python', 23.98]\n",
        "\n",
        "types = []\n",
        "for item in x:\n",
        "    types.append(type(item))\n",
        "\n",
        "print(x)\n",
        "print(types)"
      ],
      "metadata": {
        "colab": {
          "base_uri": "https://localhost:8080/"
        },
        "id": "HMAXgNJjM7pZ",
        "outputId": "a46796a2-3eab-4597-abe1-5636467aed54"
      },
      "execution_count": 3,
      "outputs": [
        {
          "output_type": "stream",
          "name": "stdout",
          "text": [
            "[23, 'Python', 23.98]\n",
            "[<class 'int'>, <class 'str'>, <class 'float'>]\n"
          ]
        }
      ]
    },
    {
      "cell_type": "code",
      "source": [
        "def getUniqueList(inputList):\n",
        "    return list(set(inputList))\n",
        "\n",
        "sampleList = [1, 2, 3, 3, 3, 3, 4, 5]\n",
        "uniqueList = getUniqueList(sampleList)\n",
        "\n",
        "print(uniqueList)\n"
      ],
      "metadata": {
        "colab": {
          "base_uri": "https://localhost:8080/"
        },
        "id": "UwNknv1HM-IO",
        "outputId": "37340a7a-d46f-4917-d0bf-da5464175c7b"
      },
      "execution_count": 4,
      "outputs": [
        {
          "output_type": "stream",
          "name": "stdout",
          "text": [
            "[1, 2, 3, 4, 5]\n"
          ]
        }
      ]
    },
    {
      "cell_type": "code",
      "source": [
        "def letterCaseCount(string):\n",
        "    upperCount = 0\n",
        "    lowerCount = 0\n",
        "    for char in string:\n",
        "        if char.isupper():\n",
        "            upperCount += 1\n",
        "        elif char.islower():\n",
        "            lowerCount += 1\n",
        "    return upperCount, lowerCount\n",
        "\n",
        "inputString = 'The quick Brow Fox'\n",
        "upperCount, lowerCount = letterCaseCount(inputString)\n",
        "\n",
        "print(\"No. of Upper-Case characters:\", upperCount)\n",
        "print(\"No. of Lower-Case characters:\", lowerCount)"
      ],
      "metadata": {
        "id": "JJSk0q6hNBfk",
        "outputId": "0f5fac02-ec25-47d6-bb51-8d977892ba36",
        "colab": {
          "base_uri": "https://localhost:8080/"
        }
      },
      "execution_count": 5,
      "outputs": [
        {
          "output_type": "stream",
          "name": "stdout",
          "text": [
            "No. of Upper-Case characters: 3\n",
            "No. of Lower-Case characters: 12\n"
          ]
        }
      ]
    }
  ]
}