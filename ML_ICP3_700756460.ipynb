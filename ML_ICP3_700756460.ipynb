{
  "nbformat": 4,
  "nbformat_minor": 0,
  "metadata": {
    "colab": {
      "provenance": [],
      "authorship_tag": "ABX9TyPH7Qb3Gg4RHqxg/JH0pyT7",
      "include_colab_link": true
    },
    "kernelspec": {
      "name": "python3",
      "display_name": "Python 3"
    },
    "language_info": {
      "name": "python"
    }
  },
  "cells": [
    {
      "cell_type": "markdown",
      "metadata": {
        "id": "view-in-github",
        "colab_type": "text"
      },
      "source": [
        "<a href=\"https://colab.research.google.com/github/reddy8888/ML_Assignment1/blob/main/ML_ICP3_700756460.ipynb\" target=\"_parent\"><img src=\"https://colab.research.google.com/assets/colab-badge.svg\" alt=\"Open In Colab\"/></a>"
      ]
    },
    {
      "cell_type": "code",
      "execution_count": 1,
      "metadata": {
        "colab": {
          "base_uri": "https://localhost:8080/"
        },
        "id": "-bjg2Y3-kj6H",
        "outputId": "93929a76-c8ac-414b-d4d0-6aa4d7dbe043"
      },
      "outputs": [
        {
          "output_type": "stream",
          "name": "stdout",
          "text": [
            "Shape of the array after reshaping to 3 by 5: (3, 5)\n",
            "Array after replacing max in each row by 0:\n",
            " [[15  0 18  1  5]\n",
            " [ 2  8  0  1 11]\n",
            " [14  0  9 15 13]]\n",
            "\n",
            "Shape of the 2D array: (4, 3)\n",
            "Type of the array: <class 'numpy.ndarray'>\n",
            "Data type of the array: int32\n"
          ]
        }
      ],
      "source": [
        "import numpy as np\n",
        "\n",
        "random_vector = np.random.randint(1, 21, size=15)\n",
        "\n",
        "reshaped_array = random_vector.reshape(3, 5)\n",
        "\n",
        "print(\"Shape of the array after reshaping to 3 by 5:\", reshaped_array.shape)\n",
        "\n",
        "reshaped_array[np.arange(len(reshaped_array)), np.argmax(reshaped_array, axis=1)] = 0\n",
        "\n",
        "print(\"Array after replacing max in each row by 0:\\n\", reshaped_array)\n",
        "\n",
        "array_2d = np.random.randint(0, 256, size=(4, 3), dtype=np.int32)\n",
        "\n",
        "print(\"\\nShape of the 2D array:\", array_2d.shape)\n",
        "print(\"Type of the array:\", type(array_2d))\n",
        "print(\"Data type of the array:\", array_2d.dtype)\n"
      ]
    },
    {
      "cell_type": "code",
      "source": [
        "import numpy as np\n",
        "\n",
        "square_array = np.array([[3, -2], [1, 0]])\n",
        "\n",
        "eigenvalues, right_eigenvectors = np.linalg.eig(square_array)\n",
        "\n",
        "print(\"Eigenvalues:\")\n",
        "for eigenvalue in eigenvalues:\n",
        "    print(eigenvalue)\n",
        "\n",
        "print(\"\\nRight Eigenvectors:\")\n",
        "for i in range(len(right_eigenvectors)):\n",
        "    print(\"Eigenvalue:\", eigenvalues[i])\n",
        "    print(\"Right Eigenvector:\", right_eigenvectors[:, i])"
      ],
      "metadata": {
        "colab": {
          "base_uri": "https://localhost:8080/"
        },
        "id": "vLMxiM7ik3H2",
        "outputId": "e72b5610-e2d4-4afc-8909-aac9c9d0fedf"
      },
      "execution_count": 2,
      "outputs": [
        {
          "output_type": "stream",
          "name": "stdout",
          "text": [
            "Eigenvalues:\n",
            "2.0\n",
            "1.0\n",
            "\n",
            "Right Eigenvectors:\n",
            "Eigenvalue: 2.0\n",
            "Right Eigenvector: [0.89442719 0.4472136 ]\n",
            "Eigenvalue: 1.0\n",
            "Right Eigenvector: [0.70710678 0.70710678]\n"
          ]
        }
      ]
    },
    {
      "cell_type": "code",
      "source": [
        "import numpy as np\n",
        "\n",
        "array = np.array([[0, 1, 2], [3, 4, 5]])\n",
        "\n",
        "diagonal_sum = np.trace(array)\n",
        "\n",
        "print(\"Sum of diagonal elements:\", diagonal_sum)"
      ],
      "metadata": {
        "colab": {
          "base_uri": "https://localhost:8080/"
        },
        "id": "FlPTJv6Fl1EK",
        "outputId": "f9039545-11c6-4434-c7af-e739b0857164"
      },
      "execution_count": 3,
      "outputs": [
        {
          "output_type": "stream",
          "name": "stdout",
          "text": [
            "Sum of diagonal elements: 4\n"
          ]
        }
      ]
    },
    {
      "cell_type": "code",
      "source": [
        "import numpy as np\n",
        "\n",
        "original_array_3x2 = np.array([[1, 2], [3, 4], [5, 6]])\n",
        "original_array_2x3 = np.array([[1, 2, 3], [4, 5, 6]])\n",
        "\n",
        "reshaped_array_2x3 = np.reshape(original_array_3x2, (2, 3))\n",
        "\n",
        "reshaped_array_3x2 = np.reshape(original_array_2x3, (3, 2))\n",
        "\n",
        "print(\"Reshaped array 2x3:\")\n",
        "print(reshaped_array_2x3)\n",
        "\n",
        "print(\"\\nReshaped array 3x2:\")\n",
        "print(reshaped_array_3x2)\n"
      ],
      "metadata": {
        "colab": {
          "base_uri": "https://localhost:8080/"
        },
        "id": "A_fiQnSBmVyd",
        "outputId": "ad8b761c-44ce-4984-d2e1-178e1957f5fd"
      },
      "execution_count": 4,
      "outputs": [
        {
          "output_type": "stream",
          "name": "stdout",
          "text": [
            "Reshaped array 2x3:\n",
            "[[1 2 3]\n",
            " [4 5 6]]\n",
            "\n",
            "Reshaped array 3x2:\n",
            "[[1 2]\n",
            " [3 4]\n",
            " [5 6]]\n"
          ]
        }
      ]
    }
  ]
}